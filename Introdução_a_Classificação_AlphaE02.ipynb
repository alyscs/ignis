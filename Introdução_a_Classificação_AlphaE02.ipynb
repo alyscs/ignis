{
  "nbformat": 4,
  "nbformat_minor": 0,
  "metadata": {
    "colab": {
      "name": "Introdução a Classificação AlphaE02.ipynb",
      "provenance": [],
      "include_colab_link": true
    },
    "kernelspec": {
      "name": "python2",
      "display_name": "Python 2"
    }
  },
  "cells": [
    {
      "cell_type": "markdown",
      "metadata": {
        "id": "view-in-github",
        "colab_type": "text"
      },
      "source": [
        "<a href=\"https://colab.research.google.com/github/alyscs/ignis/blob/master/Introdu%C3%A7%C3%A3o_a_Classifica%C3%A7%C3%A3o_AlphaE02.ipynb\" target=\"_parent\"><img src=\"https://colab.research.google.com/assets/colab-badge.svg\" alt=\"Open In Colab\"/></a>"
      ]
    },
    {
      "cell_type": "code",
      "metadata": {
        "id": "pWWIrPmZkgIV",
        "colab_type": "code",
        "colab": {}
      },
      "source": [
        "# Alpha E - 02 | Leitura de CSV para Estimar compra do site de Inscrições"
      ],
      "execution_count": 0,
      "outputs": []
    },
    {
      "cell_type": "code",
      "metadata": {
        "id": "dvuqs-R8kwGv",
        "colab_type": "code",
        "outputId": "46f8ac15-e97e-4d3c-9f41-04c0966b0714",
        "colab": {
          "base_uri": "https://localhost:8080/",
          "height": 136
        }
      },
      "source": [
        "import pandas as pd\n",
        "\n",
        "uri = \"https://raw.githubusercontent.com/alyscs/ignis/master/csvCompraCurso2.csv\"\n",
        "dados = pd.read_csv(uri)\n",
        "\n",
        "from sklearn.model_selection import train_test_split\n",
        "\n",
        "x = dados[[\"alunoNovo\",\"perfil\", \"preco\"]]\n",
        "y = dados[\"comprou\"]\n",
        "\n",
        "x.head()\n",
        "y.head()\n",
        "\n",
        "SEED = 20\n",
        "\n",
        "treinoX, testeX, treinoY, testeY = train_test_split(x,y, random_state = 20, test_size = 0.25\n",
        "                                                    , stratify = y)\n",
        "\n",
        "print(treinoX.shape)\n",
        "print(testeX.shape)\n",
        "\n",
        "\n",
        "\n",
        "\n",
        "print(\"Treinaremos com %d elementos e testaremos com %d elementos\" % (len(treinoX), len(testeX)))\n",
        "\n",
        "from sklearn.svm import LinearSVC\n",
        "\n",
        "model = LinearSVC()\n",
        "model.fit(treinoX, treinoY)\n",
        "\n",
        "from sklearn.metrics import accuracy_score\n",
        "\n",
        "previsoes = model.predict(testeX)\n",
        "\n",
        "acurracy = accuracy_score(testeY, previsoes) * 100\n",
        "print(\"Accuracy of %.2f%%\" % acurracy)\n",
        "\n",
        "#treinoY.value_counts()\n",
        "testeY.value_counts()\n",
        "\n"
      ],
      "execution_count": 0,
      "outputs": [
        {
          "output_type": "stream",
          "text": [
            "(74, 3)\n",
            "(25, 3)\n",
            "Treinaremos com 74 elementos e testaremos com 25 elementos\n",
            "Accuracy of 56.00%\n"
          ],
          "name": "stdout"
        },
        {
          "output_type": "execute_result",
          "data": {
            "text/plain": [
              "0    15\n",
              "1    10\n",
              "Name: comprou, dtype: int64"
            ]
          },
          "metadata": {
            "tags": []
          },
          "execution_count": 79
        }
      ]
    },
    {
      "cell_type": "code",
      "metadata": {
        "id": "G20MCuh0lgjd",
        "colab_type": "code",
        "colab": {}
      },
      "source": [
        ""
      ],
      "execution_count": 0,
      "outputs": []
    },
    {
      "cell_type": "code",
      "metadata": {
        "id": "5R2ePY-ko58I",
        "colab_type": "code",
        "colab": {}
      },
      "source": [
        ""
      ],
      "execution_count": 0,
      "outputs": []
    }
  ]
}